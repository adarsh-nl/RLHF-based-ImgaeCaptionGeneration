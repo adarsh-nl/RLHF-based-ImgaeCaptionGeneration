{
  "nbformat": 4,
  "nbformat_minor": 0,
  "metadata": {
    "colab": {
      "provenance": [],
      "authorship_tag": "ABX9TyN9HLN257rcf6AQAH+AYud4",
      "include_colab_link": true
    },
    "kernelspec": {
      "name": "python3",
      "display_name": "Python 3"
    },
    "language_info": {
      "name": "python"
    }
  },
  "cells": [
    {
      "cell_type": "markdown",
      "metadata": {
        "id": "view-in-github",
        "colab_type": "text"
      },
      "source": [
        "<a href=\"https://colab.research.google.com/github/adarsh-nl/RLHF-based-ImgaeCaptionGeneration/blob/main/Feedback_Model.ipynb\" target=\"_parent\"><img src=\"https://colab.research.google.com/assets/colab-badge.svg\" alt=\"Open In Colab\"/></a>"
      ]
    },
    {
      "cell_type": "code",
      "source": [
        "import numpy as np\n",
        "import pandas as pd\n",
        "import tensorflow as tf\n",
        "from tensorflow.keras.preprocessing.text import Tokenizer\n",
        "from tensorflow.keras.preprocessing.sequence import pad_sequences\n",
        "from tensorflow.keras.models import Sequential, Model\n",
        "from keras.layers import Dense, Dropout, Embedding, LSTM, Input, Concatenate\n",
        "from sklearn.model_selection import train_test_split\n",
        "import pickle\n",
        "\n",
        "# Load the data\n",
        "data = pd.read_csv('/content/main_preference_dataset.csv')\n",
        "\n",
        "# Define the maximum caption length and vocabulary size\n",
        "max_len = max([len(caption.split()) for caption in data['caption1']])\n",
        "max_words = 10000\n",
        "\n",
        "# Tokenize the captions\n",
        "tokenizer = Tokenizer(num_words=max_words)\n",
        "tokenizer.fit_on_texts(data['caption1'])\n",
        "captions_tokenized = tokenizer.texts_to_sequences(data['caption1'])\n",
        "captions_padded = pad_sequences(captions_tokenized, padding='post', maxlen=max_len)\n",
        "\n",
        "# Convert the image features to arrays\n",
        "image_features = np.array([np.fromstring(x[1:-1], sep=',') for x in data['image']])\n",
        "\n",
        "# Split the data into train, val, and test sets\n",
        "train_captions, test_captions, train_images, test_images, train_labels, test_labels = train_test_split(\n",
        "    captions_padded, image_features, data['feedback1'], test_size=0.2, random_state=42)\n",
        "\n",
        "train_captions, val_captions, train_images, val_images, train_labels, val_labels = train_test_split(\n",
        "    train_captions, train_images, train_labels, test_size=0.2, random_state=42)\n",
        "\n",
        "# Define the model architecture\n",
        "caption_input = Input(shape=(max_len,))\n",
        "caption_embedded = Embedding(max_words, 100)(caption_input)\n",
        "caption_lstm = LSTM(100, dropout=0.5)(caption_embedded)\n",
        "image_input = Input(shape=(image_features.shape[1],))\n",
        "combined = Concatenate()([caption_lstm, image_input])\n",
        "dense1 = Dense(100, activation='relu')(combined)\n",
        "dropout1 = Dropout(0.5)(dense1)\n",
        "output = Dense(1, activation='sigmoid')(dropout1)\n",
        "model = Model(inputs=[caption_input, image_input], outputs=output)\n",
        "\n",
        "# Compile the model\n",
        "model.compile(loss='mse', optimizer='adam', metrics=['accuracy'])\n",
        "\n",
        "# Train the model\n",
        "model.fit([train_captions, train_images], train_labels, epochs=10, batch_size=32,\n",
        "          validation_data=([val_captions, val_images], val_labels))\n",
        "\n",
        "# Save the model and tokenizer\n",
        "model.save('my_model.h5')\n",
        "with open('tokenizer.pickle', 'wb') as handle:\n",
        "    pickle.dump(tokenizer, handle, protocol=pickle.HIGHEST_PROTOCOL)\n",
        "\n",
        "# Evaluate the model on the test set\n",
        "loss, accuracy = model.evaluate([test_captions, test_images], test_labels)\n",
        "print('Test loss:', loss)\n",
        "print('Test accuracy:', accuracy)\n"
      ],
      "metadata": {
        "id": "RFJlLCjMdmwi",
        "colab": {
          "base_uri": "https://localhost:8080/"
        },
        "outputId": "8bac646a-ebfd-4d56-f356-219e76363eae"
      },
      "execution_count": 89,
      "outputs": [
        {
          "output_type": "stream",
          "name": "stderr",
          "text": [
            "<ipython-input-89-d7808e655745>:25: DeprecationWarning: string or file could not be read to its end due to unmatched data; this will raise a ValueError in the future.\n",
            "  image_features = np.array([np.fromstring(x[1:-1], sep=',') for x in data['image']])\n"
          ]
        },
        {
          "output_type": "stream",
          "name": "stdout",
          "text": [
            "Epoch 1/10\n",
            "5/5 [==============================] - 4s 295ms/step - loss: 0.2181 - accuracy: 0.0000e+00 - val_loss: 0.1491 - val_accuracy: 0.0000e+00\n",
            "Epoch 2/10\n",
            "5/5 [==============================] - 0s 74ms/step - loss: 0.0979 - accuracy: 0.0000e+00 - val_loss: 0.0078 - val_accuracy: 0.0000e+00\n",
            "Epoch 3/10\n",
            "5/5 [==============================] - 0s 77ms/step - loss: 0.0040 - accuracy: 0.0000e+00 - val_loss: 3.5100e-07 - val_accuracy: 0.0000e+00\n",
            "Epoch 4/10\n",
            "5/5 [==============================] - 0s 80ms/step - loss: 2.6900e-06 - accuracy: 0.0000e+00 - val_loss: 6.0286e-08 - val_accuracy: 0.0000e+00\n",
            "Epoch 5/10\n",
            "5/5 [==============================] - 0s 80ms/step - loss: 2.1947e-06 - accuracy: 0.0000e+00 - val_loss: 6.4240e-08 - val_accuracy: 0.0000e+00\n",
            "Epoch 6/10\n",
            "5/5 [==============================] - 0s 89ms/step - loss: 1.7949e-06 - accuracy: 0.0000e+00 - val_loss: 6.5396e-08 - val_accuracy: 0.0000e+00\n",
            "Epoch 7/10\n",
            "5/5 [==============================] - 0s 73ms/step - loss: 1.7640e-06 - accuracy: 0.0000e+00 - val_loss: 6.5799e-08 - val_accuracy: 0.0000e+00\n",
            "Epoch 8/10\n",
            "5/5 [==============================] - 0s 53ms/step - loss: 1.7579e-06 - accuracy: 0.0000e+00 - val_loss: 6.5971e-08 - val_accuracy: 0.0000e+00\n",
            "Epoch 9/10\n",
            "5/5 [==============================] - 0s 48ms/step - loss: 1.6617e-06 - accuracy: 0.0000e+00 - val_loss: 6.6055e-08 - val_accuracy: 0.0000e+00\n",
            "Epoch 10/10\n",
            "5/5 [==============================] - 0s 50ms/step - loss: 1.7499e-06 - accuracy: 0.0000e+00 - val_loss: 6.6100e-08 - val_accuracy: 0.0000e+00\n",
            "2/2 [==============================] - 0s 12ms/step - loss: 6.0937e-08 - accuracy: 0.0465\n",
            "Test loss: 6.093698345921439e-08\n",
            "Test accuracy: 0.04651162773370743\n"
          ]
        }
      ]
    },
    {
      "cell_type": "code",
      "source": [],
      "metadata": {
        "id": "0GXErAbsmue5"
      },
      "execution_count": null,
      "outputs": []
    }
  ]
}